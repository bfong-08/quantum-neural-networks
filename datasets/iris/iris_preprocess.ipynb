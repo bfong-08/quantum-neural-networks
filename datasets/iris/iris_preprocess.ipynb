{
 "cells": [
  {
   "cell_type": "markdown",
   "id": "580527db",
   "metadata": {},
   "source": [
    "# Iris Dataset Preprocessing\n",
    "\n",
    "The Iris Dataset has three unique labels and four features attached to each label. The \"Iris-virginica\" and \"Iris-versicolor\" labels are _not_ linearly separable, meaning they cannot be effectively separated with simple methods such as a perceptron. These two labels will be used to train multiple network designs, both quantum and classical.\n",
    "\n",
    "Here, I separate the data into training and testing splits.\n"
   ]
  },
  {
   "cell_type": "code",
   "execution_count": 7,
   "id": "8f4541dc",
   "metadata": {},
   "outputs": [],
   "source": [
    "import pandas as pd\n",
    "import numpy as np\n",
    "from sklearn.model_selection import train_test_split\n",
    "\n",
    "df = pd.read_csv(\"./IRIS.csv\")\n",
    "\n",
    "# Remove all instances of Iris-virginica\n",
    "df = df[~df['species'].str.contains('Iris-setosa')]\n",
    "\n",
    "# Convert labels to 0 or 1\n",
    "labels = df['species']\n",
    "unique_labels = {list(set(labels))[i]: i for i in range(len(set(labels)))}\n",
    "labels = labels.map(unique_labels)\n",
    "labels = labels.to_numpy()\n",
    "\n",
    "inputs = df.drop('species', axis=1).to_numpy()\n",
    "\n",
    "# Split into training and testing sets\n",
    "x_train, x_test, y_train, y_test = train_test_split(\n",
    "    inputs, \n",
    "    labels, \n",
    "    test_size=0.2, \n",
    "    random_state=42,\n",
    "    stratify=labels)\n",
    "\n",
    "np.save(\"./iris_train_x.npy\", x_train)\n",
    "np.save(\"./iris_test_x.npy\", x_test)\n",
    "np.save(\"./iris_train_y.npy\", y_train)\n",
    "np.save(\"./iris_test_y.npy\", y_test)"
   ]
  }
 ],
 "metadata": {
  "kernelspec": {
   "display_name": ".venv",
   "language": "python",
   "name": "python3"
  },
  "language_info": {
   "codemirror_mode": {
    "name": "ipython",
    "version": 3
   },
   "file_extension": ".py",
   "mimetype": "text/x-python",
   "name": "python",
   "nbconvert_exporter": "python",
   "pygments_lexer": "ipython3",
   "version": "3.13.1"
  }
 },
 "nbformat": 4,
 "nbformat_minor": 5
}
